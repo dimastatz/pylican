{
 "cells": [
  {
   "attachments": {},
   "cell_type": "markdown",
   "metadata": {},
   "source": [
    "# Sequence\n"
   ]
  },
  {
   "cell_type": "code",
   "execution_count": null,
   "metadata": {},
   "outputs": [],
   "source": [
    "import pandas as pd\n",
    "from time import sleep\n",
    "\n",
    "df_program = pd.DataFrame([\n",
    "    ['>', 'walk()'],\n",
    "    ['-', 'walk()'],\n",
    "    ['-', 'jump()'],\n",
    "    ['-', 'walk()']\n",
    "])\n",
    "\n",
    "df_board = pd.DataFrame([\n",
    "    ['', '', '', '', '', '', ''], \n",
    "    ['*', '_', '_', 'X', '_', '_', '_'],\n",
    "    ['', '', '', '', '', '', '']\n",
    "])\n",
    "\n",
    "\n",
    "for i in range(4):\n",
    "    print(f'running step {i}')\n",
    "    display(df_program, df_board)\n",
    "    sleep(1)\n",
    "\n",
    "\n"
   ]
  }
 ],
 "metadata": {
  "kernelspec": {
   "display_name": "Python 3",
   "language": "python",
   "name": "python3"
  },
  "language_info": {
   "codemirror_mode": {
    "name": "ipython",
    "version": 3
   },
   "file_extension": ".py",
   "mimetype": "text/x-python",
   "name": "python",
   "nbconvert_exporter": "python",
   "pygments_lexer": "ipython3",
   "version": "3.9.14"
  },
  "orig_nbformat": 4
 },
 "nbformat": 4,
 "nbformat_minor": 2
}
