{
 "cells": [
  {
   "attachments": {},
   "cell_type": "markdown",
   "metadata": {},
   "source": [
    "# Subroutines\n",
    " A subroutine is a block of code that performs a specific task and can be called from within a larger program. The main purpose of a subroutine is to break down a large program into smaller, more manageable pieces, making it easier to write, test, and maintain."
   ]
  }
 ],
 "metadata": {
  "language_info": {
   "name": "python"
  },
  "orig_nbformat": 4
 },
 "nbformat": 4,
 "nbformat_minor": 2
}
